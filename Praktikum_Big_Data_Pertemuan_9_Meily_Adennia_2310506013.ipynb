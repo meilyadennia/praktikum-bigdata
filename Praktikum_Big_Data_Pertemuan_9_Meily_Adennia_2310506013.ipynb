{
  "cells": [
    {
      "cell_type": "markdown",
      "source": [
        "# Meily Adennia (2310506013)"
      ],
      "metadata": {
        "id": "J0mb1pNucouf"
      },
      "id": "J0mb1pNucouf"
    },
    {
      "cell_type": "markdown",
      "id": "115f65d3",
      "metadata": {
        "id": "115f65d3"
      },
      "source": [
        "# Hands-On Pertemuan 9: Spark SQL"
      ]
    },
    {
      "cell_type": "markdown",
      "source": [],
      "metadata": {
        "id": "2szOx8nJcnoH"
      },
      "id": "2szOx8nJcnoH"
    },
    {
      "cell_type": "markdown",
      "id": "7f0fa7f9",
      "metadata": {
        "id": "7f0fa7f9"
      },
      "source": [
        "## Tujuan:\n",
        "- Mengasah keterampilan analisis data menggunakan Spark SQL.\n",
        "- Melakukan lebih banyak latihan SQL yang mengarah ke skenario dunia nyata.\n",
        "- Mempersiapkan mahasiswa untuk menggunakan Spark SQL dalam proyek besar.\n"
      ]
    },
    {
      "cell_type": "code",
      "source": [
        "pip install pyspark==3.4.1"
      ],
      "metadata": {
        "colab": {
          "base_uri": "https://localhost:8080/"
        },
        "id": "vZTXBtdlmd0Q",
        "outputId": "d2f0c297-f8bd-45ee-d0f8-29a8b8bd828f"
      },
      "id": "vZTXBtdlmd0Q",
      "execution_count": 2,
      "outputs": [
        {
          "output_type": "stream",
          "name": "stdout",
          "text": [
            "Collecting pyspark==3.4.1\n",
            "  Downloading pyspark-3.4.1.tar.gz (310.8 MB)\n",
            "\u001b[2K     \u001b[90m━━━━━━━━━━━━━━━━━━━━━━━━━━━━━━━━━━━━━━━━\u001b[0m \u001b[32m310.8/310.8 MB\u001b[0m \u001b[31m2.0 MB/s\u001b[0m eta \u001b[36m0:00:00\u001b[0m\n",
            "\u001b[?25h  Preparing metadata (setup.py) ... \u001b[?25l\u001b[?25hdone\n",
            "Requirement already satisfied: py4j==0.10.9.7 in /usr/local/lib/python3.10/dist-packages (from pyspark==3.4.1) (0.10.9.7)\n",
            "Building wheels for collected packages: pyspark\n",
            "  Building wheel for pyspark (setup.py) ... \u001b[?25l\u001b[?25hdone\n",
            "  Created wheel for pyspark: filename=pyspark-3.4.1-py2.py3-none-any.whl size=311285391 sha256=b4d4aa768004b87ce509e0173ab3c6bad783c5afcd9acef3166418fe0f512531\n",
            "  Stored in directory: /root/.cache/pip/wheels/0d/77/a3/ff2f74cc9ab41f8f594dabf0579c2a7c6de920d584206e0834\n",
            "Successfully built pyspark\n",
            "Installing collected packages: pyspark\n",
            "  Attempting uninstall: pyspark\n",
            "    Found existing installation: pyspark 3.5.3\n",
            "    Uninstalling pyspark-3.5.3:\n",
            "      Successfully uninstalled pyspark-3.5.3\n",
            "Successfully installed pyspark-3.4.1\n"
          ]
        }
      ]
    },
    {
      "cell_type": "code",
      "source": [
        "pip install pandas"
      ],
      "metadata": {
        "colab": {
          "base_uri": "https://localhost:8080/"
        },
        "id": "vu3UCc3_mrsx",
        "outputId": "df604736-9ed1-4333-ca32-53eabc1a5943"
      },
      "id": "vu3UCc3_mrsx",
      "execution_count": 3,
      "outputs": [
        {
          "output_type": "stream",
          "name": "stdout",
          "text": [
            "Requirement already satisfied: pandas in /usr/local/lib/python3.10/dist-packages (2.2.2)\n",
            "Requirement already satisfied: numpy>=1.22.4 in /usr/local/lib/python3.10/dist-packages (from pandas) (1.26.4)\n",
            "Requirement already satisfied: python-dateutil>=2.8.2 in /usr/local/lib/python3.10/dist-packages (from pandas) (2.8.2)\n",
            "Requirement already satisfied: pytz>=2020.1 in /usr/local/lib/python3.10/dist-packages (from pandas) (2024.2)\n",
            "Requirement already satisfied: tzdata>=2022.7 in /usr/local/lib/python3.10/dist-packages (from pandas) (2024.2)\n",
            "Requirement already satisfied: six>=1.5 in /usr/local/lib/python3.10/dist-packages (from python-dateutil>=2.8.2->pandas) (1.16.0)\n"
          ]
        }
      ]
    },
    {
      "cell_type": "code",
      "source": [
        "pip install findspark"
      ],
      "metadata": {
        "colab": {
          "base_uri": "https://localhost:8080/"
        },
        "id": "ebpBqMdzmtrp",
        "outputId": "ab564bae-9398-4902-f543-b7f095bc26b5"
      },
      "id": "ebpBqMdzmtrp",
      "execution_count": 4,
      "outputs": [
        {
          "output_type": "stream",
          "name": "stdout",
          "text": [
            "Collecting findspark\n",
            "  Downloading findspark-2.0.1-py2.py3-none-any.whl.metadata (352 bytes)\n",
            "Downloading findspark-2.0.1-py2.py3-none-any.whl (4.4 kB)\n",
            "Installing collected packages: findspark\n",
            "Successfully installed findspark-2.0.1\n"
          ]
        }
      ]
    },
    {
      "cell_type": "markdown",
      "id": "3a45dcb9",
      "metadata": {
        "id": "3a45dcb9"
      },
      "source": [
        "### 1. Refresher: Basic SQL Operations in Spark SQL\n",
        "- **Tugas 1**: Ulangi pemahaman Anda tentang SQL dasar dengan menjalankan queries sederhana pada dataset di Spark SQL.\n"
      ]
    },
    {
      "cell_type": "code",
      "execution_count": 5,
      "id": "974a023b",
      "metadata": {
        "id": "974a023b",
        "colab": {
          "base_uri": "https://localhost:8080/"
        },
        "outputId": "336ddaca-1ac2-45e3-9f44-6dfb2d3b83b6"
      },
      "outputs": [
        {
          "output_type": "stream",
          "name": "stdout",
          "text": [
            "+-----+---+------+------+------+\n",
            "| Name|Age|Gender|Salary|DeptId|\n",
            "+-----+---+------+------+------+\n",
            "|James| 34|     M|  3000|     1|\n",
            "| Anna| 28|     F|  4100|     2|\n",
            "|  Lee| 23|     M|  2700|     1|\n",
            "+-----+---+------+------+------+\n",
            "\n",
            "+----+---+\n",
            "|Name|Age|\n",
            "+----+---+\n",
            "|Anna| 28|\n",
            "+----+---+\n",
            "\n",
            "+------------------+\n",
            "|       avg(Salary)|\n",
            "+------------------+\n",
            "|3266.6666666666665|\n",
            "+------------------+\n",
            "\n"
          ]
        }
      ],
      "source": [
        "from pyspark.sql import SparkSession\n",
        "spark = SparkSession.builder.appName(\"Company\").getOrCreate()\n",
        "\n",
        "data = [\n",
        "    ('James', 34, 'M', 3000, 1),\n",
        "    ('Anna', 28, 'F', 4100, 2),\n",
        "    ('Lee', 23, 'M', 2700, 1)\n",
        "]\n",
        "columns = ['Name', 'Age', 'Gender', 'Salary', 'DeptId']\n",
        "df = spark.createDataFrame(data, schema=columns)\n",
        "df.createOrReplaceTempView('employees')\n",
        "spark.sql('SELECT * FROM employees').show()\n",
        "spark.sql('SELECT Name, Age FROM employees WHERE Salary > 3000').show()\n",
        "spark.sql('SELECT AVG(Salary) FROM employees').show()"
      ]
    },
    {
      "cell_type": "markdown",
      "id": "9fd8b4f1",
      "metadata": {
        "id": "9fd8b4f1"
      },
      "source": [
        "### 2. Advanced Queries for Data Analysis\n",
        "Gunakan queries lebih kompleks, melibatkan grouping, filtering, dan subqueries.\n",
        "- **Tugas 2**: Buat SQL query yang menghitung total gaji berdasarkan jenis kelamin dan usia.\n"
      ]
    },
    {
      "cell_type": "code",
      "execution_count": 6,
      "id": "4fc8a9e6",
      "metadata": {
        "id": "4fc8a9e6",
        "colab": {
          "base_uri": "https://localhost:8080/"
        },
        "outputId": "e3502965-cfcb-4075-cffe-181f4e714961"
      },
      "outputs": [
        {
          "output_type": "stream",
          "name": "stdout",
          "text": [
            "+------+-----------+---+\n",
            "|Gender|TotalSalary|Age|\n",
            "+------+-----------+---+\n",
            "|     M|       2700| 23|\n",
            "|     F|       4100| 28|\n",
            "|     M|       3000| 34|\n",
            "+------+-----------+---+\n",
            "\n"
          ]
        }
      ],
      "source": [
        "spark.sql('''\n",
        "SELECT Gender, SUM(Salary) as TotalSalary, Age\n",
        "FROM employees\n",
        "GROUP BY Gender, Age\n",
        "ORDER BY Age\n",
        "''').show()\n"
      ]
    },
    {
      "cell_type": "markdown",
      "id": "18b3ccb1",
      "metadata": {
        "id": "18b3ccb1"
      },
      "source": [
        "- **Tugas Tambahan 2**:\n",
        "1. Cari rata-rata gaji per departemen.\n",
        "2. Temukan karyawan yang memiliki gaji di atas rata-rata untuk gender masing-masing.\n",
        "3. Buat ranking karyawan berdasarkan gaji dalam departemen mereka.\n"
      ]
    },
    {
      "cell_type": "code",
      "source": [
        "print(\"Rata-rata gaji per departemen\")\n",
        "spark.sql('''\n",
        "SELECT DeptId, AVG(Salary) as AverageSalary\n",
        "FROM employees\n",
        "GROUP BY DeptId\n",
        "''').show()\n",
        "\n",
        "print(\"Karyawan yang memiliki gaji di atas rata-rata untuk gender masing-masing\")\n",
        "spark.sql('''\n",
        "SELECT Name, Gender, Salary\n",
        "FROM employees e\n",
        "WHERE Salary >= (\n",
        "    SELECT AVG(Salary)\n",
        "    FROM employees\n",
        "    WHERE Gender = e.Gender\n",
        ")\n",
        "''').show()\n",
        "\n",
        "print(\"Ranking karyawan berdasarkan gaji dalam departemen mereka\")\n",
        "spark.sql('''\n",
        "SELECT DeptId, Name, Salary,\n",
        "       RANK() OVER (PARTITION BY Gender ORDER BY Salary DESC) as RankSalary\n",
        "FROM employees\n",
        "''').show()"
      ],
      "metadata": {
        "colab": {
          "base_uri": "https://localhost:8080/"
        },
        "id": "zAmYprMyraBC",
        "outputId": "b6d44496-11fc-4e77-bbb8-561962e5f6d1"
      },
      "id": "zAmYprMyraBC",
      "execution_count": 7,
      "outputs": [
        {
          "output_type": "stream",
          "name": "stdout",
          "text": [
            "Rata-rata gaji per departemen\n",
            "+------+-------------+\n",
            "|DeptId|AverageSalary|\n",
            "+------+-------------+\n",
            "|     1|       2850.0|\n",
            "|     2|       4100.0|\n",
            "+------+-------------+\n",
            "\n",
            "Karyawan yang memiliki gaji di atas rata-rata untuk gender masing-masing\n",
            "+-----+------+------+\n",
            "| Name|Gender|Salary|\n",
            "+-----+------+------+\n",
            "|James|     M|  3000|\n",
            "| Anna|     F|  4100|\n",
            "+-----+------+------+\n",
            "\n",
            "Ranking karyawan berdasarkan gaji dalam departemen mereka\n",
            "+------+-----+------+----------+\n",
            "|DeptId| Name|Salary|RankSalary|\n",
            "+------+-----+------+----------+\n",
            "|     2| Anna|  4100|         1|\n",
            "|     1|James|  3000|         1|\n",
            "|     1|  Lee|  2700|         2|\n",
            "+------+-----+------+----------+\n",
            "\n"
          ]
        }
      ]
    },
    {
      "cell_type": "markdown",
      "id": "3c4fffdc",
      "metadata": {
        "id": "3c4fffdc"
      },
      "source": [
        "### 3. Penggunaan Window Functions dan Subqueries\n",
        "Latihan penggunaan window functions untuk menemukan karyawan dengan gaji tertinggi dan urutannya berdasarkan kelompok usia.\n",
        "- **Tugas 3**: Terapkan window functions untuk menemukan top 3 karyawan dalam kelompok usia tertentu.\n"
      ]
    },
    {
      "cell_type": "code",
      "execution_count": 8,
      "id": "eb927310",
      "metadata": {
        "id": "eb927310",
        "colab": {
          "base_uri": "https://localhost:8080/"
        },
        "outputId": "f539c1d9-212f-4a4d-b3e2-b9adf6c7755a"
      },
      "outputs": [
        {
          "output_type": "stream",
          "name": "stdout",
          "text": [
            "+-----+---+------+----+\n",
            "| Name|Age|Salary|rank|\n",
            "+-----+---+------+----+\n",
            "|  Lee| 23|  2700|   1|\n",
            "| Anna| 28|  4100|   1|\n",
            "|James| 34|  3000|   1|\n",
            "+-----+---+------+----+\n",
            "\n"
          ]
        }
      ],
      "source": [
        "spark.sql('''\n",
        "SELECT Name, Age, Salary, ROW_NUMBER() OVER (PARTITION BY Age ORDER BY Salary DESC) as rank\n",
        "FROM employees\n",
        "''').show()\n"
      ]
    },
    {
      "cell_type": "markdown",
      "source": [
        "menjelaskan windows function"
      ],
      "metadata": {
        "id": "3faiXps9sqAp"
      },
      "id": "3faiXps9sqAp"
    },
    {
      "cell_type": "markdown",
      "id": "5fb43ac4",
      "metadata": {
        "id": "5fb43ac4"
      },
      "source": [
        "### 4. Advanced Spark SQL Queries\n",
        "Menjelajahi queries yang lebih kompleks yang melibatkan multiple joins, subqueries, dan window functions.\n",
        "- **Tugas 4**: Demonstrasi penggunaan multi-level joins dan subqueries untuk analisis data yang mendalam.\n"
      ]
    },
    {
      "cell_type": "code",
      "execution_count": 12,
      "id": "f1bfd9fd",
      "metadata": {
        "id": "f1bfd9fd",
        "colab": {
          "base_uri": "https://localhost:8080/"
        },
        "outputId": "333e155e-08bd-41cc-c048-898f27dc4e72"
      },
      "outputs": [
        {
          "output_type": "stream",
          "name": "stdout",
          "text": [
            "+-----+---+---------+-----------+\n",
            "| Name|Age| DeptName|ProjectName|\n",
            "+-----+---+---------+-----------+\n",
            "|  Lee| 23|       HR|  Project A|\n",
            "|James| 34|       HR|  Project A|\n",
            "| Anna| 28|Marketing|  Project B|\n",
            "+-----+---+---------+-----------+\n",
            "\n"
          ]
        }
      ],
      "source": [
        "from pyspark.sql import SparkSession\n",
        "spark = SparkSession.builder.appName('Pertemuan9').getOrCreate()\n",
        "\n",
        "# Data setup for complex SQL queries\n",
        "employees = spark.createDataFrame([\n",
        "    ('James', 34, 'M', 3000, 1),\n",
        "    ('Anna', 28, 'F', 4100, 2),\n",
        "    ('Lee', 23, 'M', 2700, 1)\n",
        "], ['Name', 'Age', 'Gender', 'Salary', 'DeptId'])\n",
        "departments = spark.createDataFrame([\n",
        "    (1, 'HR'),\n",
        "    (2, 'Marketing')\n",
        "], ['DeptId', 'DeptName'])\n",
        "projects = spark.createDataFrame([\n",
        "    (1, 'Project A'),\n",
        "    (2, 'Project B')\n",
        "], ['DeptId', 'ProjectName'])\n",
        "employees.createOrReplaceTempView('employees')\n",
        "departments.createOrReplaceTempView('departments')\n",
        "projects.createOrReplaceTempView('projects')\n",
        "\n",
        "# Complex SQL query involving multiple joins and subqueries\n",
        "spark.sql('''\n",
        "SELECT e.Name, e.Age, d.DeptName, p.ProjectName\n",
        "FROM employees e\n",
        "JOIN departments d ON e.DeptId = d.DeptId\n",
        "JOIN projects p ON e.DeptId = p.DeptId\n",
        "''').show()\n"
      ]
    },
    {
      "cell_type": "markdown",
      "id": "ad25f1f0",
      "metadata": {
        "id": "ad25f1f0"
      },
      "source": [
        "Latihan mandiri untuk memperkuat pemahaman tentang Spark SQL dalam analisis data terdistribusi.\n",
        "- **Tugas 5**: Tuliskan query SQL untuk menemukan rata-rata gaji per departemen dan rangking setiap karyawan dalam departemen berdasarkan gaji.\n",
        "- **Tugas 6**: Gunakan window functions untuk menentukan tren gaji berdasarkan usia di setiap departemen.\n"
      ]
    },
    {
      "cell_type": "code",
      "source": [
        "print(\"Rata-rata gaji setiap departemen\")\n",
        "spark.sql('''\n",
        "SELECT d.DeptName, AVG(e.Salary) as AverageSalary\n",
        "FROM employees e\n",
        "JOIN departments d ON e.DeptId = d.DeptId\n",
        "GROUP BY d.DeptName\n",
        "''').show()\n",
        "\n",
        "print(\"Ranking karyawan tiap departemen berdasarkan gaji\")\n",
        "spark.sql('''\n",
        "SELECT d.DeptName, e.Name, e.Salary,\n",
        "       RANK() OVER (PARTITION BY d.DeptName ORDER BY Salary DESC) as RankSalary\n",
        "FROM employees e\n",
        "JOIN departments d ON e.DeptId = d.DeptId\n",
        "''').show()"
      ],
      "metadata": {
        "colab": {
          "base_uri": "https://localhost:8080/"
        },
        "id": "gs7UPn1PudWa",
        "outputId": "89aa69a7-5f53-4bf4-9df4-b622662b8c65"
      },
      "id": "gs7UPn1PudWa",
      "execution_count": 13,
      "outputs": [
        {
          "output_type": "stream",
          "name": "stdout",
          "text": [
            "Rata-rata gaji setiap departemen\n",
            "+---------+-------------+\n",
            "| DeptName|AverageSalary|\n",
            "+---------+-------------+\n",
            "|       HR|       2850.0|\n",
            "|Marketing|       4100.0|\n",
            "+---------+-------------+\n",
            "\n",
            "Ranking karyawan tiap departemen berdasarkan gaji\n",
            "+---------+-----+------+----------+\n",
            "| DeptName| Name|Salary|RankSalary|\n",
            "+---------+-----+------+----------+\n",
            "|       HR|James|  3000|         1|\n",
            "|       HR|  Lee|  2700|         2|\n",
            "|Marketing| Anna|  4100|         1|\n",
            "+---------+-----+------+----------+\n",
            "\n"
          ]
        }
      ]
    },
    {
      "cell_type": "code",
      "source": [
        "spark.sql('''\n",
        "SELECT d.DeptName, e.Age, AVG(e.Salary) OVER (PARTITION BY d.DeptName, e.Age) as AverageSalary\n",
        "FROM employees e\n",
        "JOIN departments d ON e.DeptId = d.DeptId\n",
        "''').show()"
      ],
      "metadata": {
        "colab": {
          "base_uri": "https://localhost:8080/"
        },
        "id": "73BWZMyuxW9E",
        "outputId": "09b0f44d-b359-49a8-ee11-e3cdca38a1c2"
      },
      "id": "73BWZMyuxW9E",
      "execution_count": 14,
      "outputs": [
        {
          "output_type": "stream",
          "name": "stdout",
          "text": [
            "+---------+---+-------------+\n",
            "| DeptName|Age|AverageSalary|\n",
            "+---------+---+-------------+\n",
            "|       HR| 23|       2700.0|\n",
            "|       HR| 34|       3000.0|\n",
            "|Marketing| 28|       4100.0|\n",
            "+---------+---+-------------+\n",
            "\n"
          ]
        }
      ]
    },
    {
      "cell_type": "markdown",
      "id": "88a2c206",
      "metadata": {
        "id": "88a2c206"
      },
      "source": [
        "### 5. Advanced Data Analysis and Visualization\n",
        "Penerapan teknik analisis data yang lebih canggih dan visualisasi menggunakan PySpark dan matplotlib.\n",
        "- **Tugas 7**: Lakukan analisis tren gaji menggunakan Spark SQL dan visualisasikan hasilnya.\n"
      ]
    },
    {
      "cell_type": "code",
      "source": [
        "spark.sql('''\n",
        "SELECT Age, AVG(Salary) AS AverageSalary\n",
        "FROM employees\n",
        "GROUP BY Age\n",
        "ORDER BY Age\n",
        "''').show()"
      ],
      "metadata": {
        "colab": {
          "base_uri": "https://localhost:8080/"
        },
        "id": "ZL9AU2jVxRa0",
        "outputId": "2a7ef409-10da-4cc9-d6c5-d91f482fac3a"
      },
      "id": "ZL9AU2jVxRa0",
      "execution_count": 15,
      "outputs": [
        {
          "output_type": "stream",
          "name": "stdout",
          "text": [
            "+---+-------------+\n",
            "|Age|AverageSalary|\n",
            "+---+-------------+\n",
            "| 23|       2700.0|\n",
            "| 28|       4100.0|\n",
            "| 34|       3000.0|\n",
            "+---+-------------+\n",
            "\n"
          ]
        }
      ]
    },
    {
      "cell_type": "code",
      "execution_count": 9,
      "id": "a170f256",
      "metadata": {
        "id": "a170f256",
        "colab": {
          "base_uri": "https://localhost:8080/",
          "height": 353
        },
        "outputId": "22157135-7656-4e96-895a-55d8aa1fb7b7"
      },
      "outputs": [
        {
          "output_type": "display_data",
          "data": {
            "text/plain": [
              "<Figure size 600x300 with 1 Axes>"
            ],
            "image/png": "[encoded data removed]"
          },
          "metadata": {}
        }
      ],
      "source": [
        "import matplotlib.pyplot as plt\n",
        "import pandas as pd\n",
        "\n",
        "# Advanced data analysis with visualization\n",
        "salary_trends = spark.sql('''\n",
        "SELECT Age, AVG(Salary) AS AverageSalary\n",
        "FROM employees\n",
        "GROUP BY Age\n",
        "ORDER BY Age\n",
        "''').toPandas()\n",
        "\n",
        "# Visualization of salary trends\n",
        "plt.figure(figsize=(6, 3))\n",
        "plt.plot(salary_trends['Age'], salary_trends['AverageSalary'], marker='o')\n",
        "plt.xlabel('Age')\n",
        "plt.ylabel('Average Salary')\n",
        "plt.title('Salary Trends by Age')\n",
        "plt.grid(True)\n",
        "plt.show()\n"
      ]
    },
    {
      "cell_type": "markdown",
      "id": "dd314ae9",
      "metadata": {
        "id": "dd314ae9"
      },
      "source": [
        "### 6. Homework\n",
        "- **Tugas 1**: Gunakan Spark SQL untuk mencari total gaji dan jumlah karyawan per departemen. Buat visualisasi perbandingan antar departemen.\n"
      ]
    },
    {
      "cell_type": "code",
      "source": [
        "spark.sql('''\n",
        "SELECT d.DeptName, SUM(e.Salary) as TotalSalary, COUNT(e.Name) as NumberEmployees\n",
        "FROM employees e\n",
        "JOIN departments d ON e.DeptId = d.DeptId\n",
        "GROUP BY d.DeptId, d.DeptName\n",
        "''').show()"
      ],
      "metadata": {
        "colab": {
          "base_uri": "https://localhost:8080/"
        },
        "id": "ieqhSbj7yLyM",
        "outputId": "48c91b89-77c5-4985-dee1-5b9a2736f4ee"
      },
      "id": "ieqhSbj7yLyM",
      "execution_count": 16,
      "outputs": [
        {
          "output_type": "stream",
          "name": "stdout",
          "text": [
            "+---------+-----------+---------------+\n",
            "| DeptName|TotalSalary|NumberEmployees|\n",
            "+---------+-----------+---------------+\n",
            "|       HR|       5700|              2|\n",
            "|Marketing|       4100|              1|\n",
            "+---------+-----------+---------------+\n",
            "\n"
          ]
        }
      ]
    },
    {
      "cell_type": "code",
      "source": [
        "import matplotlib.pyplot as plt\n",
        "import pandas as pd\n",
        "\n",
        "# Query SQL untuk mendapatkan perbandingan total gaji dan jumlah karyawan tiap departemen\n",
        "perbandingan = spark.sql('''\n",
        "SELECT d.DeptName, SUM(e.Salary) as TotalSalary, COUNT(e.Name) as NumberEmployees\n",
        "FROM employees e\n",
        "JOIN departments d ON e.DeptId = d.DeptId\n",
        "GROUP BY d.DeptId, d.DeptName\n",
        "''').toPandas()\n",
        "\n",
        "# Membuat visualisasi\n",
        "fig, ax1 = plt.subplots(figsize=(5, 5))\n",
        "\n",
        "# Diagram batang untuk Total Salary\n",
        "ax1.bar(perbandingan['DeptName'], perbandingan['TotalSalary'], color='pink', label='Total Salary')\n",
        "ax1.set_xlabel('Department Name')\n",
        "ax1.set_ylabel('Total Salary', color='blue')\n",
        "ax1.tick_params(axis='y', labelcolor='blue')\n",
        "\n",
        "# Diagram garis untuk Number of Employees\n",
        "ax2 = ax1.twinx()\n",
        "ax2.plot(perbandingan['DeptName'], perbandingan['NumberEmployees'], color='purple', marker='o', label='Number of Employees')\n",
        "ax2.set_ylabel('Number of Employees', color='red')\n",
        "ax2.tick_params(axis='y', labelcolor='red')\n",
        "\n",
        "# Menambahkan judul\n",
        "plt.title('Perbandingan antar departemen')\n",
        "fig.tight_layout()\n",
        "plt.legend(loc='upper right')\n",
        "\n",
        "# Menampilkan diagram\n",
        "plt.show()"
      ],
      "metadata": {
        "colab": {
          "base_uri": "https://localhost:8080/",
          "height": 527
        },
        "id": "t6PXoXgH0NdO",
        "outputId": "9b7ad744-ce02-4595-ae0a-7eeed45158b4"
      },
      "id": "t6PXoXgH0NdO",
      "execution_count": 17,
      "outputs": [
        {
          "output_type": "display_data",
          "data": {
            "text/plain": [
              "<Figure size 500x500 with 2 Axes>"
            ],
            "image/png": "[encoded data removed]"
          },
          "metadata": {}
        }
      ]
    },
    {
      "cell_type": "markdown",
      "source": [
        "- **Tugas 2**: Temukan karyawan dengan gaji di atas rata-rata dalam setiap kelompok usia dan visualisasikan data ini dalam bentuk grafik batang atau pie chart."
      ],
      "metadata": {
        "id": "CArSJhybgVr4"
      },
      "id": "CArSJhybgVr4"
    },
    {
      "cell_type": "code",
      "source": [
        "print(\"Rata-rata gaji karyawan\")\n",
        "spark.sql('SELECT AVG(Salary) as AverageSalary FROM employees').show()\n",
        "\n",
        "print(\"Karyawan dengan gaji di atas rata-rata dalam setiap kelompok usia\")\n",
        "spark.sql('''\n",
        "SELECT Name, Age, Salary\n",
        "FROM employees\n",
        "WHERE Salary > (SELECT AVG(Salary) FROM employees)\n",
        "''').show()"
      ],
      "metadata": {
        "colab": {
          "base_uri": "https://localhost:8080/"
        },
        "id": "2GOweZjV9byg",
        "outputId": "b9f9dd05-9e15-41e9-81be-39f1b449c36a"
      },
      "id": "2GOweZjV9byg",
      "execution_count": 18,
      "outputs": [
        {
          "output_type": "stream",
          "name": "stdout",
          "text": [
            "Rata-rata gaji karyawan\n",
            "+------------------+\n",
            "|     AverageSalary|\n",
            "+------------------+\n",
            "|3266.6666666666665|\n",
            "+------------------+\n",
            "\n",
            "Karyawan dengan gaji di atas rata-rata dalam setiap kelompok usia\n",
            "+----+---+------+\n",
            "|Name|Age|Salary|\n",
            "+----+---+------+\n",
            "|Anna| 28|  4100|\n",
            "+----+---+------+\n",
            "\n"
          ]
        }
      ]
    },
    {
      "cell_type": "code",
      "source": [
        "# Query SQL untuk mendapatkan jumlah karyawan di atas rata-rata\n",
        "above_average = spark.sql('''\n",
        "SELECT COUNT(*) AS Count\n",
        "FROM employees\n",
        "WHERE Salary > (SELECT AVG(Salary) FROM employees)\n",
        "''').collect()[0]['Count']\n",
        "\n",
        "# Query SQL untuk mendapatkan jumlah karyawan di bawah rata-rata\n",
        "below_average = spark.sql('''\n",
        "SELECT COUNT(*) AS Count\n",
        "FROM employees\n",
        "WHERE Salary < (SELECT AVG(Salary) FROM employees)\n",
        "''').collect()[0]['Count']\n",
        "\n",
        "# Menyiapkan data untuk pie chart\n",
        "labels = ['Above Average Salary', 'Below Average Salary']\n",
        "sizes = [above_average, below_average]\n",
        "colors = ['pink', 'salmon']\n",
        "explode = (0, 0)\n",
        "\n",
        "# Membuat pie chart\n",
        "plt.figure(figsize=(4, 4))\n",
        "plt.pie(sizes, explode=explode, labels=labels, colors=colors, autopct='%1.1f%%', startangle=140)\n",
        "plt.title('Distribusi Karyawan Berdasarkan Gaji Rata-rata')\n",
        "plt.axis('equal')  # Agar pie chart berbentuk lingkaran\n",
        "plt.show()"
      ],
      "metadata": {
        "colab": {
          "base_uri": "https://localhost:8080/",
          "height": 387
        },
        "id": "tJ8RDmTN95mR",
        "outputId": "50dc8c3f-f510-442c-f297-f2ae0a017718"
      },
      "id": "tJ8RDmTN95mR",
      "execution_count": 19,
      "outputs": [
        {
          "output_type": "display_data",
          "data": {
            "text/plain": [
              "<Figure size 400x400 with 1 Axes>"
            ],
            "image/png": "[encoded data removed]"
          },
          "metadata": {}
        }
      ]
    },
    {
      "cell_type": "markdown",
      "source": [
        "- **Tugas 3**: Buat dataset yang lebih besar (misalnya, 100+ baris) dan lakukan analisis mendalam menggunakan SQL functions seperti `SUM()`, `AVG()`, `COUNT()`, serta `JOIN` antar tabel serta buat visualisasi yang menarik."
      ],
      "metadata": {
        "id": "gXUaCRaEgYv9"
      },
      "id": "gXUaCRaEgYv9"
    },
    {
      "cell_type": "markdown",
      "source": [
        "**SQL Functions AVG()**"
      ],
      "metadata": {
        "id": "Ioc2zq1WSEyt"
      },
      "id": "Ioc2zq1WSEyt"
    },
    {
      "cell_type": "code",
      "source": [
        "# Membuat Spark Session\n",
        "spark = SparkSession.builder.appName(\"Salary Analysis\").getOrCreate()\n",
        "\n",
        "# Load dataset salaries.csv menggunakan Spark\n",
        "file_salaries = \"salaries.csv\"\n",
        "df_spark = spark.read.option(\"header\", True).csv(file_salaries, inferSchema=True)\n",
        "\n",
        "# Analisis menggunakan SQL Functions AVG()\n",
        "df_spark.createOrReplaceTempView(\"salaries\")\n",
        "spark.sql('''\n",
        "SELECT job_title, experience_level, AVG(salary) AS AverageSalary\n",
        "FROM salaries\n",
        "GROUP BY job_title, experience_level\n",
        "ORDER BY experience_level\n",
        "''').show()"
      ],
      "metadata": {
        "colab": {
          "base_uri": "https://localhost:8080/"
        },
        "id": "Mz4fL1mao4zz",
        "outputId": "e18098f3-c120-493f-c3d2-ff58421a2292"
      },
      "id": "Mz4fL1mao4zz",
      "execution_count": 20,
      "outputs": [
        {
          "output_type": "stream",
          "name": "stdout",
          "text": [
            "+--------------------+----------------+------------------+\n",
            "|           job_title|experience_level|     AverageSalary|\n",
            "+--------------------+----------------+------------------+\n",
            "|        Data Analyst|              EN|           85550.0|\n",
            "|     BI Data Analyst|              EN|           25000.0|\n",
            "|Data Integration ...|              EN|          170000.0|\n",
            "|Business Intellig...|              EN|          500000.0|\n",
            "|      Data Scientist|              EN|           95700.0|\n",
            "|  Analytics Engineer|              EN|           34800.0|\n",
            "|AI Research Engineer|              EN|           30000.0|\n",
            "|        Data Analyst|              EX|          106250.0|\n",
            "|Data Science Dire...|              EX|          201000.0|\n",
            "|       Data Engineer|              EX|          117500.0|\n",
            "|  Analytics Engineer|              MI|           87500.0|\n",
            "|     Data Specialist|              MI|           85000.0|\n",
            "|   Applied Scientist|              MI|          199300.0|\n",
            "|       Data Engineer|              MI|130442.85714285714|\n",
            "|Business Intellig...|              MI|           75350.0|\n",
            "|      Data Scientist|              MI|123435.88235294117|\n",
            "|Business Intellig...|              MI|          135000.0|\n",
            "|Machine Learning ...|              MI|          190000.0|\n",
            "|        Data Analyst|              MI|         101818.75|\n",
            "|Business Intellig...|              MI|          125000.0|\n",
            "+--------------------+----------------+------------------+\n",
            "only showing top 20 rows\n",
            "\n"
          ]
        }
      ]
    },
    {
      "cell_type": "markdown",
      "source": [
        "**SQL Functions SUM()**"
      ],
      "metadata": {
        "id": "vr5txPQdSLPk"
      },
      "id": "vr5txPQdSLPk"
    },
    {
      "cell_type": "code",
      "source": [
        "# Analisis menggunakan SQL Functions SUM()\n",
        "spark.sql('''\n",
        "SELECT job_title, SUM(Salary) as TotalSalary\n",
        "FROM salaries\n",
        "GROUP BY job_title\n",
        "''').show()"
      ],
      "metadata": {
        "colab": {
          "base_uri": "https://localhost:8080/"
        },
        "id": "4JY8lXjYqaUH",
        "outputId": "9e0fb027-8617-4c51-d697-d629899dbcd6"
      },
      "id": "4JY8lXjYqaUH",
      "execution_count": 21,
      "outputs": [
        {
          "output_type": "stream",
          "name": "stdout",
          "text": [
            "+--------------------+-----------+\n",
            "|           job_title|TotalSalary|\n",
            "+--------------------+-----------+\n",
            "|Business Intellig...|     323000|\n",
            "|     Data Specialist|     170000|\n",
            "|Data Science Prac...|     254100|\n",
            "|Data Integration ...|     340000|\n",
            "|Machine Learning ...|     274500|\n",
            "|Business Intellig...|     270000|\n",
            "|        BI Developer|     274000|\n",
            "|Data Science Dire...|     402000|\n",
            "|Business Intellig...|     500000|\n",
            "|Machine Learning ...|    6326400|\n",
            "|Business Intellig...|    1586100|\n",
            "|AI Research Engineer|      30000|\n",
            "|  Research Scientist|    2082900|\n",
            "|Business Intellig...|     250000|\n",
            "|      Data Scientist|    9529228|\n",
            "|        Data Analyst|    6463796|\n",
            "|         ML Engineer|     450000|\n",
            "|  Analytics Engineer|    2320250|\n",
            "|   Applied Scientist|    2665200|\n",
            "|Data Product Manager|     265000|\n",
            "+--------------------+-----------+\n",
            "only showing top 20 rows\n",
            "\n"
          ]
        }
      ]
    },
    {
      "cell_type": "markdown",
      "source": [
        "**SQL Functions COUNT()**"
      ],
      "metadata": {
        "id": "zhbeXmO6SOKW"
      },
      "id": "zhbeXmO6SOKW"
    },
    {
      "cell_type": "code",
      "source": [
        "# Load dataset salaries.csv menggunakan Spark\n",
        "file_companies = \"companies.csv\"\n",
        "df_spark = spark.read.option(\"header\", True).csv(file_companies, inferSchema=True)\n",
        "\n",
        "# Analisis menggunakan SQL Functions COUNT()\n",
        "df_spark.createOrReplaceTempView(\"companies\")\n",
        "spark.sql('''\n",
        "SELECT company_location, COUNT(*) AS TotalCompany\n",
        "FROM companies\n",
        "GROUP BY company_location\n",
        "ORDER BY TotalCompany DESC;\n",
        "''').show()"
      ],
      "metadata": {
        "colab": {
          "base_uri": "https://localhost:8080/"
        },
        "id": "nqY3jxUl1YOL",
        "outputId": "b6fd5e63-0136-408f-a6c4-8e40fdfe482e"
      },
      "id": "nqY3jxUl1YOL",
      "execution_count": 22,
      "outputs": [
        {
          "output_type": "stream",
          "name": "stdout",
          "text": [
            "+----------------+------------+\n",
            "|company_location|TotalCompany|\n",
            "+----------------+------------+\n",
            "|              US|         275|\n",
            "|              CA|          14|\n",
            "|              GB|           5|\n",
            "|              LT|           2|\n",
            "|              NL|           2|\n",
            "|              PT|           2|\n",
            "|              IN|           1|\n",
            "+----------------+------------+\n",
            "\n"
          ]
        }
      ]
    },
    {
      "cell_type": "markdown",
      "source": [
        "**SQL Functions JOIN()**"
      ],
      "metadata": {
        "id": "f_vi9uj6SREm"
      },
      "id": "f_vi9uj6SREm"
    },
    {
      "cell_type": "code",
      "source": [
        "# Analisis menggunakan SQL Functions JOIN()\n",
        "spark.sql('''\n",
        "SELECT s.job_title, AVG(s.salary) as AverageSalary, c.company_location\n",
        "FROM salaries s\n",
        "JOIN companies c\n",
        "ON s.job_title = c.job_title\n",
        "WHERE s.job_title IN ('Data Scientist', 'Data Analyst', 'Data Engineet', 'Data Architect')\n",
        "GROUP BY s.job_title, c.company_location\n",
        "''').show()"
      ],
      "metadata": {
        "colab": {
          "base_uri": "https://localhost:8080/"
        },
        "id": "I58KsbkS19iB",
        "outputId": "1a89ff3f-1d2c-471f-e117-1738efc76141"
      },
      "id": "I58KsbkS19iB",
      "execution_count": 23,
      "outputs": [
        {
          "output_type": "stream",
          "name": "stdout",
          "text": [
            "+--------------+------------------+----------------+\n",
            "|     job_title|     AverageSalary|company_location|\n",
            "+--------------+------------------+----------------+\n",
            "|Data Scientist| 156216.8524590164|              CA|\n",
            "|Data Scientist| 156216.8524590164|              GB|\n",
            "|  Data Analyst|107729.93333333333|              US|\n",
            "|Data Architect|          174125.0|              US|\n",
            "|Data Scientist| 156216.8524590164|              US|\n",
            "|Data Architect|          174125.0|              CA|\n",
            "|  Data Analyst|107729.93333333333|              CA|\n",
            "+--------------+------------------+----------------+\n",
            "\n"
          ]
        }
      ]
    },
    {
      "cell_type": "code",
      "source": [
        "import pandas as pd\n",
        "import matplotlib.pyplot as plt\n",
        "\n",
        "# Query SQL untuk mendapatkan data\n",
        "result = spark.sql('''\n",
        "SELECT s.job_title, AVG(s.salary) as AverageSalary, c.company_location\n",
        "FROM salaries s\n",
        "JOIN companies c\n",
        "ON s.job_title = c.job_title\n",
        "WHERE s.job_title IN ('Data Scientist', 'Data Analyst', 'Data Engineer', 'Data Architect')\n",
        "GROUP BY s.job_title, c.company_location\n",
        "''')\n",
        "\n",
        "result_pd = result.toPandas() # Konversi DataFrame ke Pandas\n",
        "\n",
        "# Memastikan bahwa data telah diperoleh\n",
        "print(\"Tabel Distribusi Rata-rata Gaji berdasarkan Pekerjaan dan Lokasi Perusahaan\")\n",
        "result.show()\n",
        "\n",
        "# Membuat pie chart untuk rata-rata gaji berdasarkan job title\n",
        "# Menggabungkan job_title dan company_location untuk label\n",
        "result_pd['label'] = result_pd['job_title'] + \" (\" + result_pd['company_location'] + \")\"\n",
        "\n",
        "# Plotting pie chart\n",
        "plt.figure(figsize=(8, 6))\n",
        "plt.pie(result_pd['AverageSalary'], labels=result_pd['label'], autopct='%1.1f%%', startangle=140)\n",
        "plt.title('Distribusi Rata-rata Gaji berdasarkan Pekerjaan dan Lokasi Perusahaan\\n')\n",
        "plt.axis('equal')  # Agar pie chart berbentuk lingkaran\n",
        "\n",
        "plt.show()\n"
      ],
      "metadata": {
        "colab": {
          "base_uri": "https://localhost:8080/",
          "height": 823
        },
        "id": "YmHMYEA15_Pt",
        "outputId": "471d9cd9-8987-4e3d-9448-4788125336fd"
      },
      "id": "YmHMYEA15_Pt",
      "execution_count": 24,
      "outputs": [
        {
          "output_type": "stream",
          "name": "stdout",
          "text": [
            "Tabel Distribusi Rata-rata Gaji berdasarkan Pekerjaan dan Lokasi Perusahaan\n",
            "+--------------+------------------+----------------+\n",
            "|     job_title|     AverageSalary|company_location|\n",
            "+--------------+------------------+----------------+\n",
            "|Data Scientist| 156216.8524590164|              CA|\n",
            "| Data Engineer|          150745.5|              US|\n",
            "|Data Scientist| 156216.8524590164|              GB|\n",
            "|  Data Analyst|107729.93333333333|              US|\n",
            "|Data Architect|          174125.0|              US|\n",
            "| Data Engineer|          150745.5|              CA|\n",
            "|Data Scientist| 156216.8524590164|              US|\n",
            "|Data Architect|          174125.0|              CA|\n",
            "|  Data Analyst|107729.93333333333|              CA|\n",
            "+--------------+------------------+----------------+\n",
            "\n"
          ]
        },
        {
          "output_type": "display_data",
          "data": {
            "text/plain": [
              "<Figure size 800x600 with 1 Axes>"
            ],
            "image/png": "[encoded data removed]"
          },
          "metadata": {}
        }
      ]
    }
  ],
  "metadata": {
    "language_info": {
      "name": "python"
    },
    "colab": {
      "provenance": []
    },
    "kernelspec": {
      "name": "python3",
      "display_name": "Python 3"
    }
  },
  "nbformat": 4,
  "nbformat_minor": 5
}