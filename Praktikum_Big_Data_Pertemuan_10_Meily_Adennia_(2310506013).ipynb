{
  "cells": [
    {
      "cell_type": "markdown",
      "id": "36c82675",
      "metadata": {
        "id": "36c82675"
      },
      "source": [
        "# Hands-On Pertemuan 10: Implementasi NoSQL Database - MongoDB"
      ]
    },
    {
      "cell_type": "markdown",
      "id": "c541bd8b",
      "metadata": {
        "id": "c541bd8b"
      },
      "source": [
        "## Tujuan:\n",
        "- Mengenal konsep dasar dan pengimplementasian database NoSQL, khususnya MongoDB.\n",
        "- Melakukan berbagai operasi dasar pada MongoDB untuk analisis data.\n",
        "- Mengasah keterampilan dalam menulis query yang lebih kompleks.\n"
      ]
    },
    {
      "cell_type": "markdown",
      "id": "705e14f2",
      "metadata": {
        "id": "705e14f2"
      },
      "source": [
        "### 1. Menghubungkan ke Database MongoDB\n",
        "- **Tugas 1**: Pastikan MongoDB telah terpasang dan berjalan. Hubungkan ke MongoDB lokal.\n"
      ]
    },
    {
      "cell_type": "code",
      "source": [
        "!pip install pymongo"
      ],
      "metadata": {
        "colab": {
          "base_uri": "https://localhost:8080/"
        },
        "id": "XY3caJ-_kjww",
        "outputId": "0cb56f4e-2838-45e1-f1b2-a701caa004a7"
      },
      "id": "XY3caJ-_kjww",
      "execution_count": null,
      "outputs": [
        {
          "output_type": "stream",
          "name": "stdout",
          "text": [
            "Collecting pymongo\n",
            "  Downloading pymongo-4.10.1-cp310-cp310-manylinux_2_17_x86_64.manylinux2014_x86_64.whl.metadata (22 kB)\n",
            "Collecting dnspython<3.0.0,>=1.16.0 (from pymongo)\n",
            "  Downloading dnspython-2.7.0-py3-none-any.whl.metadata (5.8 kB)\n",
            "Downloading pymongo-4.10.1-cp310-cp310-manylinux_2_17_x86_64.manylinux2014_x86_64.whl (1.4 MB)\n",
            "\u001b[2K   \u001b[90m━━━━━━━━━━━━━━━━━━━━━━━━━━━━━━━━━━━━━━━━\u001b[0m \u001b[32m1.4/1.4 MB\u001b[0m \u001b[31m31.1 MB/s\u001b[0m eta \u001b[36m0:00:00\u001b[0m\n",
            "\u001b[?25hDownloading dnspython-2.7.0-py3-none-any.whl (313 kB)\n",
            "\u001b[2K   \u001b[90m━━━━━━━━━━━━━━━━━━━━━━━━━━━━━━━━━━━━━━━━\u001b[0m \u001b[32m313.6/313.6 kB\u001b[0m \u001b[31m16.9 MB/s\u001b[0m eta \u001b[36m0:00:00\u001b[0m\n",
            "\u001b[?25hInstalling collected packages: dnspython, pymongo\n",
            "Successfully installed dnspython-2.7.0 pymongo-4.10.1\n"
          ]
        }
      ]
    },
    {
      "cell_type": "code",
      "execution_count": null,
      "id": "ac5c3c85",
      "metadata": {
        "id": "ac5c3c85",
        "colab": {
          "base_uri": "https://localhost:8080/"
        },
        "outputId": "c4a69ef4-5313-45e5-ba50-8aec0370fe57"
      },
      "outputs": [
        {
          "output_type": "stream",
          "name": "stdout",
          "text": [
            "Connected to MongoDB\n"
          ]
        }
      ],
      "source": [
        "import pymongo\n",
        "from pymongo import MongoClient\n",
        "\n",
        "# Inisialisasi client dan koneksi ke database\n",
        "client = pymongo.MongoClient('mongodb+srv://meilyadennia:<password>@cluster0.zls2j.mongodb.net/?retryWrites=true&w=majority&appName=Cluster0')\n",
        "db = client['company_db']\n",
        "collection = db['employees']\n",
        "\n",
        "# Contoh untuk memastikan koneksi\n",
        "print('Connected to MongoDB')"
      ]
    },
    {
      "cell_type": "markdown",
      "id": "0cd8858c",
      "metadata": {
        "id": "0cd8858c"
      },
      "source": [
        "### 2. Operasi CRUD Dasar\n",
        "- **Tugas 2**: Insert, Update, dan Delete data pada koleksi `employees`.\n"
      ]
    },
    {
      "cell_type": "code",
      "execution_count": null,
      "id": "23b894b6",
      "metadata": {
        "id": "23b894b6",
        "colab": {
          "base_uri": "https://localhost:8080/"
        },
        "outputId": "b8c1a951-e551-4a97-fd36-e51a1678084c"
      },
      "outputs": [
        {
          "output_type": "stream",
          "name": "stdout",
          "text": [
            "Data inserted\n"
          ]
        }
      ],
      "source": [
        "# Contoh Insert Data\n",
        "employee_data = {\n",
        "    'name': 'Alice',\n",
        "    'department': 'Finance',\n",
        "    'age': 29,\n",
        "    'salary': 4500\n",
        "}\n",
        "collection.insert_one(employee_data)\n",
        "print('Data inserted')"
      ]
    },
    {
      "cell_type": "markdown",
      "source": [
        "**Tugas**: Insert beberapa data tambahan, lakukan update, serta delete data"
      ],
      "metadata": {
        "id": "U5g8Sk0V9pxU"
      },
      "id": "U5g8Sk0V9pxU"
    },
    {
      "cell_type": "code",
      "source": [
        "employee_tambahan = [\n",
        "    {'name': 'Karina', 'department': 'HR', 'age': 28, 'salary': 4200},\n",
        "    {'name': 'Wonwoo', 'department': 'IT', 'age': 31, 'salary': 5000},\n",
        "    {'name': 'Isa', 'department': 'HR', 'age': 25, 'salary': 4100},\n",
        "    {'name': 'Kemal', 'department': 'Finance', 'age': 27, 'salary': 4700},\n",
        "    {'name': 'Chien', 'department': 'Sales', 'age': 34, 'salary': 4800},\n",
        "    {'name': 'Gracheon', 'department': 'IT', 'age': 27, 'salary': 5300},\n",
        "    {'name': 'Hannah', 'department': 'Marketing', 'age': 26, 'salary': 4500},\n",
        "    {'name': 'Ian', 'department': 'Finance', 'age': 31, 'salary': 5100},\n",
        "    {'name': 'Franco', 'department': 'Marketing', 'age': 29, 'salary': 4400}\n",
        "]\n",
        "collection.insert_many(employee_tambahan)\n",
        "print('Data berhasil ditambahkan')"
      ],
      "metadata": {
        "colab": {
          "base_uri": "https://localhost:8080/"
        },
        "id": "FXE6Gv3wyRZf",
        "outputId": "c71f6a75-c804-487f-c178-7f322d7598cd"
      },
      "id": "FXE6Gv3wyRZf",
      "execution_count": null,
      "outputs": [
        {
          "output_type": "stream",
          "name": "stdout",
          "text": [
            "Data berhasil ditambahkan\n"
          ]
        }
      ]
    },
    {
      "cell_type": "code",
      "source": [
        "collection.update_one(\n",
        "    {'name': 'Wonwoo'},\n",
        "    {'$set': {'salary': 5400}}\n",
        ")\n",
        "print(\"Gaji Wonwoo telah diperbarui\")"
      ],
      "metadata": {
        "colab": {
          "base_uri": "https://localhost:8080/"
        },
        "id": "oanQxAGZyey5",
        "outputId": "f69b7111-a7ec-466e-b806-67170bd5f91b"
      },
      "id": "oanQxAGZyey5",
      "execution_count": null,
      "outputs": [
        {
          "output_type": "stream",
          "name": "stdout",
          "text": [
            "Gaji Wonwoo telah diperbarui\n"
          ]
        }
      ]
    },
    {
      "cell_type": "code",
      "source": [
        "collection.delete_one({'name': 'Kemal'})\n",
        "print(\"Data Kemal telah dihapus\")"
      ],
      "metadata": {
        "colab": {
          "base_uri": "https://localhost:8080/"
        },
        "id": "EHaq_JtpyteD",
        "outputId": "b84a7823-545f-44f7-f3b8-3aa713295314"
      },
      "id": "EHaq_JtpyteD",
      "execution_count": null,
      "outputs": [
        {
          "output_type": "stream",
          "name": "stdout",
          "text": [
            "Data Kemal telah dihapus\n"
          ]
        }
      ]
    },
    {
      "cell_type": "code",
      "execution_count": null,
      "id": "1fc95031",
      "metadata": {
        "id": "1fc95031",
        "colab": {
          "base_uri": "https://localhost:8080/"
        },
        "outputId": "82e2af89-d793-48d2-f181-001df56879cb"
      },
      "outputs": [
        {
          "output_type": "stream",
          "name": "stdout",
          "text": [
            "{'_id': ObjectId('672728520acd3781d4fbeec4'), 'name': 'Alice', 'department': 'Finance', 'age': 29, 'salary': 4500}\n",
            "{'_id': ObjectId('672728de0acd3781d4fbeec5'), 'name': 'Karina', 'department': 'HR', 'age': 28, 'salary': 4200}\n",
            "{'_id': ObjectId('672728de0acd3781d4fbeec6'), 'name': 'Wonwoo', 'department': 'IT', 'age': 31, 'salary': 5400}\n",
            "{'_id': ObjectId('672728de0acd3781d4fbeec7'), 'name': 'Isa', 'department': 'HR', 'age': 25, 'salary': 4100}\n",
            "{'_id': ObjectId('672728de0acd3781d4fbeec9'), 'name': 'Chien', 'department': 'Sales', 'age': 34, 'salary': 4800}\n",
            "{'_id': ObjectId('672728de0acd3781d4fbeeca'), 'name': 'Gracheon', 'department': 'IT', 'age': 27, 'salary': 5300}\n",
            "{'_id': ObjectId('672728de0acd3781d4fbeecb'), 'name': 'Hannah', 'department': 'Marketing', 'age': 26, 'salary': 4500}\n",
            "{'_id': ObjectId('672728de0acd3781d4fbeecc'), 'name': 'Ian', 'department': 'Finance', 'age': 31, 'salary': 5100}\n",
            "{'_id': ObjectId('672728de0acd3781d4fbeecd'), 'name': 'Franco', 'department': 'Marketing', 'age': 29, 'salary': 4400}\n"
          ]
        }
      ],
      "source": [
        "# Contoh Query Data\n",
        "for employee in collection.find():\n",
        "    print(employee)"
      ]
    },
    {
      "cell_type": "markdown",
      "id": "f5235dbb",
      "metadata": {
        "id": "f5235dbb"
      },
      "source": [
        "### 3. Query Lebih Kompleks Menggunakan Aggregation\n",
        "- **Tugas 3**: Terapkan aggregation untuk menghitung rata-rata gaji per departemen.\n"
      ]
    },
    {
      "cell_type": "code",
      "execution_count": null,
      "id": "3ac107b3",
      "metadata": {
        "id": "3ac107b3",
        "colab": {
          "base_uri": "https://localhost:8080/"
        },
        "outputId": "54c53260-ab46-4b4e-87ba-5819d1299410"
      },
      "outputs": [
        {
          "output_type": "stream",
          "name": "stdout",
          "text": [
            "{'_id': 'Finance', 'average_salary': 4800.0}\n",
            "{'_id': 'HR', 'average_salary': 4150.0}\n",
            "{'_id': 'Sales', 'average_salary': 4800.0}\n",
            "{'_id': 'Marketing', 'average_salary': 4450.0}\n",
            "{'_id': 'IT', 'average_salary': 5350.0}\n"
          ]
        }
      ],
      "source": [
        "# Query Aggregation untuk mencari rata-rata gaji per departemen\n",
        "pipeline = [\n",
        "    {'$group': {'_id': '$department', 'average_salary': {'$avg': '$salary'}}}\n",
        "]\n",
        "for result in collection.aggregate(pipeline):\n",
        "    print(result)\n"
      ]
    },
    {
      "cell_type": "markdown",
      "id": "aba28dac",
      "metadata": {
        "id": "aba28dac"
      },
      "source": [
        "### 4. Latihan Tambahan\n",
        "- **Latihan 4.1**: Buatlah koleksi baru `products` dan masukkan data produk (minimal 10 produk).\n",
        "\n"
      ]
    },
    {
      "cell_type": "code",
      "source": [
        "db = client['company_db']\n",
        "collection = db['products']\n",
        "products_data = [\n",
        "    {'name': 'Laptop', 'category': 'Electronics', 'price': 1000},\n",
        "    {'name': 'Smartphone', 'category': 'Electronics', 'price': 700},\n",
        "    {'name': 'Headphones', 'category': 'Electronics', 'price': 150},\n",
        "    {'name': 'Chair', 'category': 'Furniture', 'price': 200},\n",
        "    {'name': 'Desk', 'category': 'Furniture', 'price': 300},\n",
        "    {'name': 'Keyboard', 'category': 'Electronics', 'price': 100},\n",
        "    {'name': 'Book', 'category': 'Stationery', 'price': 20},\n",
        "    {'name': 'Notebook', 'category': 'Stationery', 'price': 15},\n",
        "    {'name': 'Pen', 'category': 'Stationery', 'price': 5},\n",
        "    {'name': 'Monitor', 'category': 'Electronics', 'price': 250}\n",
        "]\n",
        "collection.insert_many(products_data)\n",
        "print('Data berhasil ditambahkan')"
      ],
      "metadata": {
        "colab": {
          "base_uri": "https://localhost:8080/"
        },
        "id": "uWtcA11gy7gV",
        "outputId": "695ac40f-15af-46db-f789-3cfced145a16"
      },
      "id": "uWtcA11gy7gV",
      "execution_count": null,
      "outputs": [
        {
          "output_type": "stream",
          "name": "stdout",
          "text": [
            "Data berhasil ditambahkan\n"
          ]
        }
      ]
    },
    {
      "cell_type": "code",
      "source": [
        "for products in collection.find():\n",
        "    print(products)"
      ],
      "metadata": {
        "colab": {
          "base_uri": "https://localhost:8080/"
        },
        "id": "MhY4LBXc2LFz",
        "outputId": "3b926f67-034b-4592-ed16-b6f81954e832"
      },
      "id": "MhY4LBXc2LFz",
      "execution_count": null,
      "outputs": [
        {
          "output_type": "stream",
          "name": "stdout",
          "text": [
            "{'_id': ObjectId('672729ef0acd3781d4fbeece'), 'name': 'Laptop', 'category': 'Electronics', 'price': 1000}\n",
            "{'_id': ObjectId('672729ef0acd3781d4fbeecf'), 'name': 'Smartphone', 'category': 'Electronics', 'price': 700}\n",
            "{'_id': ObjectId('672729ef0acd3781d4fbeed0'), 'name': 'Headphones', 'category': 'Electronics', 'price': 150}\n",
            "{'_id': ObjectId('672729ef0acd3781d4fbeed1'), 'name': 'Chair', 'category': 'Furniture', 'price': 200}\n",
            "{'_id': ObjectId('672729ef0acd3781d4fbeed2'), 'name': 'Desk', 'category': 'Furniture', 'price': 300}\n",
            "{'_id': ObjectId('672729ef0acd3781d4fbeed3'), 'name': 'Keyboard', 'category': 'Electronics', 'price': 100}\n",
            "{'_id': ObjectId('672729ef0acd3781d4fbeed4'), 'name': 'Book', 'category': 'Stationery', 'price': 20}\n",
            "{'_id': ObjectId('672729ef0acd3781d4fbeed5'), 'name': 'Notebook', 'category': 'Stationery', 'price': 15}\n",
            "{'_id': ObjectId('672729ef0acd3781d4fbeed6'), 'name': 'Pen', 'category': 'Stationery', 'price': 5}\n",
            "{'_id': ObjectId('672729ef0acd3781d4fbeed7'), 'name': 'Monitor', 'category': 'Electronics', 'price': 250}\n"
          ]
        }
      ]
    },
    {
      "cell_type": "markdown",
      "source": [
        "- **Latihan 4.2**: Lakukan query untuk menemukan produk dengan harga di atas rata-rata."
      ],
      "metadata": {
        "id": "gn5626C04lb4"
      },
      "id": "gn5626C04lb4"
    },
    {
      "cell_type": "code",
      "source": [
        "# Query untuk menghitung rata-rata harga\n",
        "average_price = collection.aggregate([\n",
        "    {'$group': {'_id': None, 'average_price': {'$avg': '$price'}}}\n",
        "])\n",
        "average_price = list(average_price)[0]['average_price'] # Mengambil nilai rata-rata dari hasil query\n",
        "\n",
        "# Menampilkan produk dengan harga di atas rata-rata\n",
        "above_average = collection.find({'price': {'$gt': average_price}})\n",
        "print(f\"Harga rata-rata: {average_price}\")\n",
        "print(\"Produk dengan harga di atas rata-rata:\")\n",
        "for products in above_average:\n",
        "    print(products)"
      ],
      "metadata": {
        "colab": {
          "base_uri": "https://localhost:8080/"
        },
        "id": "KvgZFwz22ZaP",
        "outputId": "622867e3-53f8-4990-b956-a573f134307a"
      },
      "id": "KvgZFwz22ZaP",
      "execution_count": null,
      "outputs": [
        {
          "output_type": "stream",
          "name": "stdout",
          "text": [
            "Harga rata-rata: None\n",
            "Produk dengan harga di atas rata-rata:\n"
          ]
        }
      ]
    },
    {
      "cell_type": "markdown",
      "source": [
        "- **Latihan 4.3**: Buatlah aggregation pipeline untuk menghitung total produk dalam setiap kategori."
      ],
      "metadata": {
        "id": "phBrqe8V4n_b"
      },
      "id": "phBrqe8V4n_b"
    },
    {
      "cell_type": "code",
      "source": [
        "produk_per_category = collection.aggregate([\n",
        "    {'$group': {'_id': '$category', 'total_products': {'$sum': 1}}}\n",
        "])\n",
        "\n",
        "print(\"Total produk di setiap kategori:\")\n",
        "for category in produk_per_category:\n",
        "    print(category)"
      ],
      "metadata": {
        "colab": {
          "base_uri": "https://localhost:8080/"
        },
        "id": "yBNUsvlS37lk",
        "outputId": "96d17954-b3da-4c6d-ad47-094f77c1b8d2"
      },
      "id": "yBNUsvlS37lk",
      "execution_count": null,
      "outputs": [
        {
          "output_type": "stream",
          "name": "stdout",
          "text": [
            "Total produk di setiap kategori:\n",
            "{'_id': 'Electronics', 'total_products': 5}\n",
            "{'_id': 'Furniture', 'total_products': 2}\n",
            "{'_id': 'Stationery', 'total_products': 3}\n"
          ]
        }
      ]
    },
    {
      "cell_type": "markdown",
      "id": "31fba268",
      "metadata": {
        "id": "31fba268"
      },
      "source": [
        "### 5. Tugas\n",
        "- **Tugas 1**: Cari 5 karyawan dengan gaji tertinggi dalam setiap departemen, gunakan query atau aggregation yang sesuai.\n",
        "\n"
      ]
    },
    {
      "cell_type": "code",
      "source": [
        "# Pindah ke collection employees\n",
        "db = client['company_db']\n",
        "collection = db['employees']"
      ],
      "metadata": {
        "id": "caSYxLaC5zP1"
      },
      "id": "caSYxLaC5zP1",
      "execution_count": null,
      "outputs": []
    },
    {
      "cell_type": "code",
      "source": [
        "employee_tambahann = [\n",
        "    {'name': 'Saki', 'department': 'HR', 'age': 28, 'salary': 5250},\n",
        "    {'name': 'Eula', 'department': 'IT', 'age': 25, 'salary': 3500},\n",
        "    {'name': 'Dean', 'department': 'HR', 'age': 25, 'salary': 3400},\n",
        "    {'name': 'Juan', 'department': 'Finance', 'age': 27, 'salary': 4100},\n",
        "    {'name': 'Jay', 'department': 'Sales', 'age': 21, 'salary': 3100},\n",
        "    {'name': 'Jake', 'department': 'IT', 'age': 27, 'salary': 4300},\n",
        "    {'name': 'Kahya', 'department': 'Marketing', 'age': 24, 'salary': 3800},\n",
        "    {'name': 'Sherly', 'department': 'Finance', 'age': 27, 'salary': 5300},\n",
        "    {'name': 'Ollie', 'department': 'Marketing', 'age': 22, 'salary': 4100}\n",
        "]\n",
        "collection.insert_many(employee_tambahann)\n",
        "print('Data berhasil ditambahkan')"
      ],
      "metadata": {
        "colab": {
          "base_uri": "https://localhost:8080/"
        },
        "id": "NsZG7ZII7Bch",
        "outputId": "249a1cb7-0e27-4b7c-a96a-cc5461eb9555"
      },
      "id": "NsZG7ZII7Bch",
      "execution_count": null,
      "outputs": [
        {
          "output_type": "stream",
          "name": "stdout",
          "text": [
            "Data berhasil ditambahkan\n"
          ]
        }
      ]
    },
    {
      "cell_type": "code",
      "source": [
        "# Aggregation pipeline untuk menemukan 5 karyawan dengan gaji tertinggi dalam setiap departemen\n",
        "gaji_tertinggi = collection.aggregate([\n",
        "    {'$sort': {'department': 1, 'salary': -1}},  # Urutkan berdasarkan department dan gaji\n",
        "    {'$group': {\n",
        "        '_id': '$department',  # Kelompokkan berdasarkan departemen\n",
        "        'top_employees': {'$push': {'name': '$name', 'salary': '$salary'}}\n",
        "    }},\n",
        "    {'$project': {\n",
        "        'top_employees': {'$slice': ['$top_employees', 5]}  # Ambil 5 karyawan tertinggi\n",
        "    }}\n",
        "])\n",
        "\n",
        "# Menampilkan hasil dalam format list ke bawah\n",
        "print(\"Top 5 employees by salary in each department:\")\n",
        "for department in gaji_tertinggi:\n",
        "    print(f\"\\nDepartment: {department['_id']}\")\n",
        "    for employee in department['top_employees']:\n",
        "        print(f\" - Name: {employee['name']}, Salary: {employee['salary']}\")\n"
      ],
      "metadata": {
        "colab": {
          "base_uri": "https://localhost:8080/"
        },
        "id": "VMl4Dv5Q4b08",
        "outputId": "5f20ef88-a93f-4293-c874-0dedc2ba6ed2"
      },
      "id": "VMl4Dv5Q4b08",
      "execution_count": null,
      "outputs": [
        {
          "output_type": "stream",
          "name": "stdout",
          "text": [
            "Top 5 employees by salary in each department:\n",
            "\n",
            "Department: IT\n",
            " - Name: Wonwoo, Salary: 5400\n",
            " - Name: Gracheon, Salary: 5300\n",
            " - Name: Jake, Salary: 4300\n",
            " - Name: Eula, Salary: 3500\n",
            "\n",
            "Department: HR\n",
            " - Name: Saki, Salary: 5250\n",
            " - Name: Karina, Salary: 4200\n",
            " - Name: Isa, Salary: 4100\n",
            " - Name: Dean, Salary: 3400\n",
            "\n",
            "Department: Marketing\n",
            " - Name: Hannah, Salary: 4500\n",
            " - Name: Franco, Salary: 4400\n",
            " - Name: Ollie, Salary: 4100\n",
            " - Name: Kahya, Salary: 3800\n",
            "\n",
            "Department: Finance\n",
            " - Name: Sherly, Salary: 5300\n",
            " - Name: Ian, Salary: 5100\n",
            " - Name: Alice, Salary: 4500\n",
            " - Name: Juan, Salary: 4100\n",
            "\n",
            "Department: Sales\n",
            " - Name: Chien, Salary: 4800\n",
            " - Name: Jay, Salary: 3100\n"
          ]
        }
      ]
    },
    {
      "cell_type": "markdown",
      "source": [
        "- **Tugas 2**: Buatlah skenario di mana Anda harus menghapus karyawan yang berusia di bawah 25 tahun dari database."
      ],
      "metadata": {
        "id": "3lLYLUf38M2K"
      },
      "id": "3lLYLUf38M2K"
    },
    {
      "cell_type": "code",
      "source": [
        "underage_25 = collection.delete_many({'age': {'$lt': 25}})\n",
        "print(f\"Menghapus {underage_25.deleted_count} karyawan yang berusia di bawah 25 tahun\")"
      ],
      "metadata": {
        "colab": {
          "base_uri": "https://localhost:8080/"
        },
        "id": "ELKPdeqS9wX4",
        "outputId": "4da386c7-ad7a-403f-e398-f2357d72f41f"
      },
      "id": "ELKPdeqS9wX4",
      "execution_count": null,
      "outputs": [
        {
          "output_type": "stream",
          "name": "stdout",
          "text": [
            "Menghapus 3 karyawan yang berusia di bawah 25 tahun\n"
          ]
        }
      ]
    },
    {
      "cell_type": "markdown",
      "source": [
        "- **Tugas 3**: Buatlah laporan ringkas (menggunakan MongoDB query) yang menghitung total gaji karyawan di setiap departemen, serta rata-rata umur karyawan."
      ],
      "metadata": {
        "id": "jRGwsB268WWv"
      },
      "id": "jRGwsB268WWv"
    },
    {
      "cell_type": "code",
      "source": [
        "# Aggregation pipeline untuk menghitung total gaji dan rata-rata umur per departemen\n",
        "report = collection.aggregate([\n",
        "    {'$group': {\n",
        "        '_id': '$department', # Kelompokkan berdasarkan departemen\n",
        "        'total_salary': {'$sum': '$salary'}, # Hitung total gaji\n",
        "        'average_age': {'$avg': '$age'} # Hitung rata-rata umur\n",
        "    }}\n",
        "])\n",
        "\n",
        "print(\"Total gaji dan rata-rata umur karyawan di setiap departemen:\")\n",
        "for department in report:\n",
        "    print(f\"\\nDepartment: {department['_id']}\")\n",
        "    print(f\" - Total Gaji: {department['total_salary']}\")\n",
        "    print(f\" - Rata-rata Usia: {department['average_age']}\")"
      ],
      "metadata": {
        "colab": {
          "base_uri": "https://localhost:8080/"
        },
        "id": "nkAoWxZo8XmO",
        "outputId": "d950c056-84d6-45ba-c408-6dc537def9b7"
      },
      "id": "nkAoWxZo8XmO",
      "execution_count": null,
      "outputs": [
        {
          "output_type": "stream",
          "name": "stdout",
          "text": [
            "Total gaji dan rata-rata umur karyawan di setiap departemen:\n",
            "\n",
            "Department: IT\n",
            " - Total Gaji: 18500\n",
            " - Rata-rata Usia: 27.5\n",
            "\n",
            "Department: Finance\n",
            " - Total Gaji: 19000\n",
            " - Rata-rata Usia: 28.5\n",
            "\n",
            "Department: Sales\n",
            " - Total Gaji: 4800\n",
            " - Rata-rata Usia: 34.0\n",
            "\n",
            "Department: HR\n",
            " - Total Gaji: 16950\n",
            " - Rata-rata Usia: 26.5\n",
            "\n",
            "Department: Marketing\n",
            " - Total Gaji: 8900\n",
            " - Rata-rata Usia: 27.5\n"
          ]
        }
      ]
    }
  ],
  "metadata": {
    "language_info": {
      "name": "python"
    },
    "colab": {
      "provenance": []
    },
    "kernelspec": {
      "name": "python3",
      "display_name": "Python 3"
    }
  },
  "nbformat": 4,
  "nbformat_minor": 5
}
