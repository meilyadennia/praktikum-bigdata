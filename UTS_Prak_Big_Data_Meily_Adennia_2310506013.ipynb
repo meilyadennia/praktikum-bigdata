{
  "nbformat": 4,
  "nbformat_minor": 0,
  "metadata": {
    "colab": {
      "provenance": []
    },
    "kernelspec": {
      "name": "python3",
      "display_name": "Python 3"
    },
    "language_info": {
      "name": "python"
    }
  },
  "cells": [
    {
      "cell_type": "code",
      "execution_count": 1,
      "metadata": {
        "colab": {
          "base_uri": "https://localhost:8080/"
        },
        "id": "iQkY_k7OZPwG",
        "outputId": "7bbe42b4-9712-4dfd-9242-e17a7e84c28f"
      },
      "outputs": [
        {
          "output_type": "stream",
          "name": "stdout",
          "text": [
            "Collecting pyspark==3.4.1\n",
            "  Downloading pyspark-3.4.1.tar.gz (310.8 MB)\n",
            "\u001b[2K     \u001b[90m━━━━━━━━━━━━━━━━━━━━━━━━━━━━━━━━━━━━━━━━\u001b[0m \u001b[32m310.8/310.8 MB\u001b[0m \u001b[31m4.2 MB/s\u001b[0m eta \u001b[36m0:00:00\u001b[0m\n",
            "\u001b[?25h  Preparing metadata (setup.py) ... \u001b[?25l\u001b[?25hdone\n",
            "Requirement already satisfied: py4j==0.10.9.7 in /usr/local/lib/python3.10/dist-packages (from pyspark==3.4.1) (0.10.9.7)\n",
            "Building wheels for collected packages: pyspark\n",
            "  Building wheel for pyspark (setup.py) ... \u001b[?25l\u001b[?25hdone\n",
            "  Created wheel for pyspark: filename=pyspark-3.4.1-py2.py3-none-any.whl size=311285391 sha256=aae5899efbf8f8dd6255c2f0426f0066f511d2fc9eecd2ce8ca39a303be73bf2\n",
            "  Stored in directory: /root/.cache/pip/wheels/0d/77/a3/ff2f74cc9ab41f8f594dabf0579c2a7c6de920d584206e0834\n",
            "Successfully built pyspark\n",
            "Installing collected packages: pyspark\n",
            "Successfully installed pyspark-3.4.1\n"
          ]
        }
      ],
      "source": [
        "pip install pyspark==3.4.1"
      ]
    },
    {
      "cell_type": "code",
      "source": [
        "pip install pandas"
      ],
      "metadata": {
        "colab": {
          "base_uri": "https://localhost:8080/"
        },
        "id": "gnoT8Uq2aXZL",
        "outputId": "14a1a6a7-785d-4a22-f1a8-10f86024915a"
      },
      "execution_count": 2,
      "outputs": [
        {
          "output_type": "stream",
          "name": "stdout",
          "text": [
            "Requirement already satisfied: pandas in /usr/local/lib/python3.10/dist-packages (2.2.2)\n",
            "Requirement already satisfied: numpy>=1.22.4 in /usr/local/lib/python3.10/dist-packages (from pandas) (1.26.4)\n",
            "Requirement already satisfied: python-dateutil>=2.8.2 in /usr/local/lib/python3.10/dist-packages (from pandas) (2.8.2)\n",
            "Requirement already satisfied: pytz>=2020.1 in /usr/local/lib/python3.10/dist-packages (from pandas) (2024.2)\n",
            "Requirement already satisfied: tzdata>=2022.7 in /usr/local/lib/python3.10/dist-packages (from pandas) (2024.2)\n",
            "Requirement already satisfied: six>=1.5 in /usr/local/lib/python3.10/dist-packages (from python-dateutil>=2.8.2->pandas) (1.16.0)\n"
          ]
        }
      ]
    },
    {
      "cell_type": "code",
      "source": [
        "pip install findspark"
      ],
      "metadata": {
        "colab": {
          "base_uri": "https://localhost:8080/"
        },
        "id": "wdqKopFbaZg7",
        "outputId": "0edb619c-da2f-44ff-b911-718fe77a283f"
      },
      "execution_count": 3,
      "outputs": [
        {
          "output_type": "stream",
          "name": "stdout",
          "text": [
            "Collecting findspark\n",
            "  Downloading findspark-2.0.1-py2.py3-none-any.whl.metadata (352 bytes)\n",
            "Downloading findspark-2.0.1-py2.py3-none-any.whl (4.4 kB)\n",
            "Installing collected packages: findspark\n",
            "Successfully installed findspark-2.0.1\n"
          ]
        }
      ]
    },
    {
      "cell_type": "code",
      "source": [
        "# Import SparkSession dan fungsi-fungsinya\n",
        "from pyspark.sql import SparkSession\n",
        "from pyspark.sql.functions import col, sum, max, to_date, month\n",
        "\n",
        "# Memberi nama session dengan metode SparkSession.builder.appName().getOrCreate()\n",
        "spark = SparkSession.builder.appName('DataPenjualanPerusahaan').getOrCreate()\n",
        "\n",
        "# Inisialisasi dataset yang alan digunakan\n",
        "data = [('P001', 'Product A', 'Electronics', 10, 200, '2022-01-10'),\n",
        "        ('P002', 'Product B', 'Electronics', 30, 150, '2022-03-11'),\n",
        "        ('P003', 'Product C', 'Clothing', 20, 100, '2022-02-10'),\n",
        "        ('P004', 'Product D', 'Clothing', 15, 120, '2022-02-12'),\n",
        "        ('P005', 'Product E', 'Kitchen', 25, 90, '2022-04-13'),\n",
        "        ('P006', 'Product F', 'Kitchen', 5, 300, '2022-01-14')]\n",
        "columns = ['ProductID', 'ProductName', 'Category', 'Quantity', 'Price', 'Date']\n",
        "\n",
        "# Mengubah tipe data pada kolom Date menjadi yyyy-MM-dd\n",
        "df = df.withColumn(\"Date\", to_date(col(\"Date\"), \"yyyy-MM-dd\"))\n",
        "\n",
        "# Membuat DataFrame sesuai dengan dataset yang diinisialisasi\n",
        "df = spark.createDataFrame(data, schema=columns)\n",
        "df.show()"
      ],
      "metadata": {
        "colab": {
          "base_uri": "https://localhost:8080/"
        },
        "id": "ks0poUkoafei",
        "outputId": "e64efeb4-676b-4360-92ec-b70d9dd80cd8"
      },
      "execution_count": 46,
      "outputs": [
        {
          "output_type": "stream",
          "name": "stdout",
          "text": [
            "+---------+-----------+-----------+--------+-----+----------+\n",
            "|ProductID|ProductName|   Category|Quantity|Price|      Date|\n",
            "+---------+-----------+-----------+--------+-----+----------+\n",
            "|     P001|  Product A|Electronics|      10|  200|2022-01-10|\n",
            "|     P002|  Product B|Electronics|      30|  150|2022-03-11|\n",
            "|     P003|  Product C|   Clothing|      20|  100|2022-02-10|\n",
            "|     P004|  Product D|   Clothing|      15|  120|2022-02-12|\n",
            "|     P005|  Product E|    Kitchen|      25|   90|2022-04-13|\n",
            "|     P006|  Product F|    Kitchen|       5|  300|2022-01-14|\n",
            "+---------+-----------+-----------+--------+-----+----------+\n",
            "\n"
          ]
        }
      ]
    },
    {
      "cell_type": "code",
      "source": [
        "# Membuat kolom baru untuk total pendapatan setiap kategori produk perbulan\n",
        "df = df.withColumn('TotalPendapatanPerbulan', col('Quantity') * col('Price'))\n",
        "\n",
        "# Membuat kolom Bulan\n",
        "df = df.withColumn('Bulan', month(col('Date')))\n",
        "\n",
        "# Menghitung total pendapatan setiap kategori produk perbulan\n",
        "total = df.groupBy('Category', 'Bulan').agg(\n",
        "    sum('TotalPendapatanPerbulan').alias('Total Pendapatan Perbulan')\n",
        ")\n",
        "total.show()"
      ],
      "metadata": {
        "colab": {
          "base_uri": "https://localhost:8080/"
        },
        "id": "KeR9wMKucMf7",
        "outputId": "30248bdd-ded0-4c21-e012-6f26aac40377"
      },
      "execution_count": 36,
      "outputs": [
        {
          "output_type": "stream",
          "name": "stdout",
          "text": [
            "+-----------+-----+-------------------------+\n",
            "|   Category|Bulan|Total Pendapatan Perbulan|\n",
            "+-----------+-----+-------------------------+\n",
            "|Electronics|    1|                     2000|\n",
            "|Electronics|    3|                     4500|\n",
            "|   Clothing|    2|                     3800|\n",
            "|    Kitchen|    1|                     1500|\n",
            "|    Kitchen|    4|                     2250|\n",
            "+-----------+-----+-------------------------+\n",
            "\n"
          ]
        }
      ]
    },
    {
      "cell_type": "code",
      "source": [
        "# Menampilkan jumlah penjualan tertinggi setiap kategori\n",
        "penjualan_tertinggi = df.groupBy('Category').agg(\n",
        "    max('Quantity').alias('Penjualan Tertinggi')\n",
        ")\n",
        "penjualan_tertinggi.show()"
      ],
      "metadata": {
        "colab": {
          "base_uri": "https://localhost:8080/"
        },
        "id": "Ab1sWZOlgyT7",
        "outputId": "92743598-cf80-432e-f030-6154e3a7464f"
      },
      "execution_count": 47,
      "outputs": [
        {
          "output_type": "stream",
          "name": "stdout",
          "text": [
            "+-----------+-------------------+\n",
            "|   Category|Penjualan Tertinggi|\n",
            "+-----------+-------------------+\n",
            "|Electronics|                 30|\n",
            "|   Clothing|                 20|\n",
            "|    Kitchen|                 25|\n",
            "+-----------+-------------------+\n",
            "\n"
          ]
        }
      ]
    },
    {
      "cell_type": "code",
      "source": [
        "# Analisis tren penjualan bulanan\n",
        "from pyspark.sql.window import Window\n",
        "from pyspark.sql import functions as F\n",
        "\n",
        "windowSpec = Window.partitionBy('Bulan').orderBy('Quantity')\n",
        "df.withColumn('Rank', F.rank().over(windowSpec)).show()"
      ],
      "metadata": {
        "colab": {
          "base_uri": "https://localhost:8080/"
        },
        "id": "iGQ97JMFnUkH",
        "outputId": "04e604a7-f47d-4644-b29e-7c54ca5e8afa"
      },
      "execution_count": 44,
      "outputs": [
        {
          "output_type": "stream",
          "name": "stdout",
          "text": [
            "+---------+-----------+-----------+--------+-----+----------+-----------------------+-----+----+\n",
            "|ProductID|ProductName|   Category|Quantity|Price|      Date|TotalPendapatanPerbulan|Bulan|Rank|\n",
            "+---------+-----------+-----------+--------+-----+----------+-----------------------+-----+----+\n",
            "|     P006|  Product F|    Kitchen|       5|  300|2022-01-14|                   1500|    1|   1|\n",
            "|     P001|  Product A|Electronics|      10|  200|2022-01-10|                   2000|    1|   2|\n",
            "|     P004|  Product D|   Clothing|      15|  120|2022-02-12|                   1800|    2|   1|\n",
            "|     P003|  Product C|   Clothing|      20|  100|2022-02-10|                   2000|    2|   2|\n",
            "|     P002|  Product B|Electronics|      30|  150|2022-03-11|                   4500|    3|   1|\n",
            "|     P005|  Product E|    Kitchen|      25|   90|2022-04-13|                   2250|    4|   1|\n",
            "+---------+-----------+-----------+--------+-----+----------+-----------------------+-----+----+\n",
            "\n"
          ]
        }
      ]
    },
    {
      "cell_type": "code",
      "source": [
        "import matplotlib.pyplot as plt\n",
        "\n",
        "visualisasi = total.toPandas()\n",
        "plt.figure(figsize=(5,5))\n",
        "plt.bar(visualisasi[\"Category\"], visualisasi[\"Total Pendapatan Perbulan\"], color='pink')\n",
        "plt.xlabel(\"Kategori\")\n",
        "plt.ylabel(\"Total Pendapatan Perbulan\")\n",
        "plt.title(\"Total Pendapatan Pada Setiap Kategori\")\n",
        "plt.show()"
      ],
      "metadata": {
        "colab": {
          "base_uri": "https://localhost:8080/",
          "height": 487
        },
        "id": "NXQxQ8Calndx",
        "outputId": "6cdaead9-b581-477f-f6b8-0d8cccb7cb92"
      },
      "execution_count": 45,
      "outputs": [
        {
          "output_type": "display_data",
          "data": {
            "text/plain": [
              "<Figure size 500x500 with 1 Axes>"
            ],
            "image/png": "[encoded data removed]"
          },
          "metadata": {}
        }
      ]
    }
  ]
}